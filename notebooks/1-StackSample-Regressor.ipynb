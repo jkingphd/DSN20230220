{
 "cells": [
  {
   "cell_type": "code",
   "execution_count": 1,
   "id": "0bfee824",
   "metadata": {},
   "outputs": [],
   "source": [
    "from sklearn.feature_extraction.text import CountVectorizer, TfidfVectorizer, HashingVectorizer\n",
    "from sklearn.ensemble import HistGradientBoostingRegressor, RandomForestRegressor, GradientBoostingRegressor\n",
    "from sklearn.model_selection import train_test_split\n",
    "from sklearn.decomposition import NMF, MiniBatchNMF\n",
    "from sklearn.pipeline import Pipeline\n",
    "from bs4 import BeautifulSoup\n",
    "from tqdm import tqdm\n",
    "\n",
    "import sqlite3 as sql\n",
    "import pandas as pd\n",
    "import numpy as np\n",
    "import joblib\n",
    "import time\n",
    "\n",
    "tqdm.pandas()\n",
    "SEED = 101"
   ]
  },
  {
   "cell_type": "code",
   "execution_count": 14,
   "id": "61558379",
   "metadata": {},
   "outputs": [],
   "source": [
    "def strip_html(html):\n",
    "    return BeautifulSoup(html, features=\"lxml\").get_text()"
   ]
  },
  {
   "cell_type": "markdown",
   "id": "7cca64de",
   "metadata": {},
   "source": [
    "Load the questions dataset and create a corpus."
   ]
  },
  {
   "cell_type": "code",
   "execution_count": 5,
   "id": "34d80bea",
   "metadata": {},
   "outputs": [
    {
     "data": {
      "text/html": [
       "<div>\n",
       "<style scoped>\n",
       "    .dataframe tbody tr th:only-of-type {\n",
       "        vertical-align: middle;\n",
       "    }\n",
       "\n",
       "    .dataframe tbody tr th {\n",
       "        vertical-align: top;\n",
       "    }\n",
       "\n",
       "    .dataframe thead th {\n",
       "        text-align: right;\n",
       "    }\n",
       "</style>\n",
       "<table border=\"1\" class=\"dataframe\">\n",
       "  <thead>\n",
       "    <tr style=\"text-align: right;\">\n",
       "      <th></th>\n",
       "      <th>Id</th>\n",
       "      <th>OwnerUserId</th>\n",
       "      <th>CreationDate</th>\n",
       "      <th>ClosedDate</th>\n",
       "      <th>Score</th>\n",
       "      <th>Title</th>\n",
       "      <th>Body</th>\n",
       "    </tr>\n",
       "  </thead>\n",
       "  <tbody>\n",
       "    <tr>\n",
       "      <th>0</th>\n",
       "      <td>80</td>\n",
       "      <td>26.0</td>\n",
       "      <td>2008-08-01T13:57:07Z</td>\n",
       "      <td>NaN</td>\n",
       "      <td>26</td>\n",
       "      <td>SQLStatement.execute() - multiple queries in o...</td>\n",
       "      <td>&lt;p&gt;I've written a database generation script i...</td>\n",
       "    </tr>\n",
       "    <tr>\n",
       "      <th>1</th>\n",
       "      <td>90</td>\n",
       "      <td>58.0</td>\n",
       "      <td>2008-08-01T14:41:24Z</td>\n",
       "      <td>2012-12-26T03:45:49Z</td>\n",
       "      <td>144</td>\n",
       "      <td>Good branching and merging tutorials for Torto...</td>\n",
       "      <td>&lt;p&gt;Are there any really good tutorials explain...</td>\n",
       "    </tr>\n",
       "    <tr>\n",
       "      <th>2</th>\n",
       "      <td>120</td>\n",
       "      <td>83.0</td>\n",
       "      <td>2008-08-01T15:50:08Z</td>\n",
       "      <td>NaN</td>\n",
       "      <td>21</td>\n",
       "      <td>ASP.NET Site Maps</td>\n",
       "      <td>&lt;p&gt;Has anyone got experience creating &lt;strong&gt;...</td>\n",
       "    </tr>\n",
       "    <tr>\n",
       "      <th>3</th>\n",
       "      <td>180</td>\n",
       "      <td>2089740.0</td>\n",
       "      <td>2008-08-01T18:42:19Z</td>\n",
       "      <td>NaN</td>\n",
       "      <td>53</td>\n",
       "      <td>Function for creating color wheels</td>\n",
       "      <td>&lt;p&gt;This is something I've pseudo-solved many t...</td>\n",
       "    </tr>\n",
       "    <tr>\n",
       "      <th>4</th>\n",
       "      <td>260</td>\n",
       "      <td>91.0</td>\n",
       "      <td>2008-08-01T23:22:08Z</td>\n",
       "      <td>NaN</td>\n",
       "      <td>49</td>\n",
       "      <td>Adding scripting functionality to .NET applica...</td>\n",
       "      <td>&lt;p&gt;I have a little game written in C#. It uses...</td>\n",
       "    </tr>\n",
       "  </tbody>\n",
       "</table>\n",
       "</div>"
      ],
      "text/plain": [
       "    Id  OwnerUserId          CreationDate            ClosedDate  Score  \\\n",
       "0   80         26.0  2008-08-01T13:57:07Z                   NaN     26   \n",
       "1   90         58.0  2008-08-01T14:41:24Z  2012-12-26T03:45:49Z    144   \n",
       "2  120         83.0  2008-08-01T15:50:08Z                   NaN     21   \n",
       "3  180    2089740.0  2008-08-01T18:42:19Z                   NaN     53   \n",
       "4  260         91.0  2008-08-01T23:22:08Z                   NaN     49   \n",
       "\n",
       "                                               Title  \\\n",
       "0  SQLStatement.execute() - multiple queries in o...   \n",
       "1  Good branching and merging tutorials for Torto...   \n",
       "2                                  ASP.NET Site Maps   \n",
       "3                 Function for creating color wheels   \n",
       "4  Adding scripting functionality to .NET applica...   \n",
       "\n",
       "                                                Body  \n",
       "0  <p>I've written a database generation script i...  \n",
       "1  <p>Are there any really good tutorials explain...  \n",
       "2  <p>Has anyone got experience creating <strong>...  \n",
       "3  <p>This is something I've pseudo-solved many t...  \n",
       "4  <p>I have a little game written in C#. It uses...  "
      ]
     },
     "execution_count": 5,
     "metadata": {},
     "output_type": "execute_result"
    }
   ],
   "source": [
    "df = pd.read_csv('StackSample/Questions.csv', encoding=\"ISO-8859-1\")\n",
    "df.head()"
   ]
  },
  {
   "cell_type": "markdown",
   "id": "f35b7c33",
   "metadata": {},
   "source": [
    "I probably need to strip HTML from the Body field to create a usable corpus. I'll use BeautifulSoup for this and the lxml parser."
   ]
  },
  {
   "cell_type": "code",
   "execution_count": 11,
   "id": "e69c6754",
   "metadata": {
    "scrolled": true
   },
   "outputs": [
    {
     "name": "stdout",
     "output_type": "stream",
     "text": [
      "<p>I've written a database generation script in <a href=\"http://en.wikipedia.org/wiki/SQL\">SQL</a> and want to execute it in my <a href=\"http://en.wikipedia.org/wiki/Adobe_Integrated_Runtime\">Adobe AIR</a> application:</p>\n",
      "\n",
      "<pre><code>Create Table tRole (\n",
      "      roleID integer Primary Key\n",
      "      ,roleName varchar(40)\n",
      ");\n",
      "Create Table tFile (\n",
      "    fileID integer Primary Key\n",
      "    ,fileName varchar(50)\n",
      "    ,fileDescription varchar(500)\n",
      "    ,thumbnailID integer\n",
      "    ,fileFormatID integer\n",
      "    ,categoryID integer\n",
      "    ,isFavorite boolean\n",
      "    ,dateAdded date\n",
      "    ,globalAccessCount integer\n",
      "    ,lastAccessTime date\n",
      "    ,downloadComplete boolean\n",
      "    ,isNew boolean\n",
      "    ,isSpotlight boolean\n",
      "    ,duration varchar(30)\n",
      ");\n",
      "Create Table tCategory (\n",
      "    categoryID integer Primary Key\n",
      "    ,categoryName varchar(50)\n",
      "    ,parent_categoryID integer\n",
      ");\n",
      "...\n",
      "</code></pre>\n",
      "\n",
      "<p>I execute this in Adobe AIR using the following methods:</p>\n",
      "\n",
      "<pre><code>public static function RunSqlFromFile(fileName:String):void {\n",
      "    var file:File = File.applicationDirectory.resolvePath(fileName);\n",
      "    var stream:FileStream = new FileStream();\n",
      "    stream.open(file, FileMode.READ)\n",
      "    var strSql:String = stream.readUTFBytes(stream.bytesAvailable);\n",
      "    NonQuery(strSql);\n",
      "}\n",
      "\n",
      "public static function NonQuery(strSQL:String):void\n",
      "{\n",
      "    var sqlConnection:SQLConnection = new SQLConnection();\n",
      "    sqlConnection.open(File.applicationStorageDirectory.resolvePath(DBPATH);\n",
      "    var sqlStatement:SQLStatement = new SQLStatement();\n",
      "    sqlStatement.text = strSQL;\n",
      "    sqlStatement.sqlConnection = sqlConnection;\n",
      "    try\n",
      "    {\n",
      "        sqlStatement.execute();\n",
      "    }\n",
      "    catch (error:SQLError)\n",
      "    {\n",
      "        Alert.show(error.toString());\n",
      "    }\n",
      "}\n",
      "</code></pre>\n",
      "\n",
      "<p>No errors are generated, however only <code>tRole</code> exists. It seems that it only looks at the first query (up to the semicolon- if I remove it, the query fails). Is there a way to call multiple queries in one statement?</p>\n",
      "\n"
     ]
    }
   ],
   "source": [
    "test = df['Body'].values[0]\n",
    "print(test)"
   ]
  },
  {
   "cell_type": "code",
   "execution_count": 15,
   "id": "93b7551a",
   "metadata": {},
   "outputs": [
    {
     "name": "stdout",
     "output_type": "stream",
     "text": [
      "I've written a database generation script in SQL and want to execute it in my Adobe AIR application:\n",
      "Create Table tRole (\n",
      "      roleID integer Primary Key\n",
      "      ,roleName varchar(40)\n",
      ");\n",
      "Create Table tFile (\n",
      "    fileID integer Primary Key\n",
      "    ,fileName varchar(50)\n",
      "    ,fileDescription varchar(500)\n",
      "    ,thumbnailID integer\n",
      "    ,fileFormatID integer\n",
      "    ,categoryID integer\n",
      "    ,isFavorite boolean\n",
      "    ,dateAdded date\n",
      "    ,globalAccessCount integer\n",
      "    ,lastAccessTime date\n",
      "    ,downloadComplete boolean\n",
      "    ,isNew boolean\n",
      "    ,isSpotlight boolean\n",
      "    ,duration varchar(30)\n",
      ");\n",
      "Create Table tCategory (\n",
      "    categoryID integer Primary Key\n",
      "    ,categoryName varchar(50)\n",
      "    ,parent_categoryID integer\n",
      ");\n",
      "...\n",
      "\n",
      "I execute this in Adobe AIR using the following methods:\n",
      "public static function RunSqlFromFile(fileName:String):void {\n",
      "    var file:File = File.applicationDirectory.resolvePath(fileName);\n",
      "    var stream:FileStream = new FileStream();\n",
      "    stream.open(file, FileMode.READ)\n",
      "    var strSql:String = stream.readUTFBytes(stream.bytesAvailable);\n",
      "    NonQuery(strSql);\n",
      "}\n",
      "\n",
      "public static function NonQuery(strSQL:String):void\n",
      "{\n",
      "    var sqlConnection:SQLConnection = new SQLConnection();\n",
      "    sqlConnection.open(File.applicationStorageDirectory.resolvePath(DBPATH);\n",
      "    var sqlStatement:SQLStatement = new SQLStatement();\n",
      "    sqlStatement.text = strSQL;\n",
      "    sqlStatement.sqlConnection = sqlConnection;\n",
      "    try\n",
      "    {\n",
      "        sqlStatement.execute();\n",
      "    }\n",
      "    catch (error:SQLError)\n",
      "    {\n",
      "        Alert.show(error.toString());\n",
      "    }\n",
      "}\n",
      "\n",
      "No errors are generated, however only tRole exists. It seems that it only looks at the first query (up to the semicolon- if I remove it, the query fails). Is there a way to call multiple queries in one statement?\n",
      "\n"
     ]
    }
   ],
   "source": [
    "print(strip_html(test))"
   ]
  },
  {
   "cell_type": "markdown",
   "id": "77091596",
   "metadata": {},
   "source": [
    "Now that we have that working, let's preprocess the text (in-place to save memory). Note that I'd like to show how we can do this as a generator, both with all text in memory and all text on disk."
   ]
  },
  {
   "cell_type": "code",
   "execution_count": 20,
   "id": "5cdf07c0",
   "metadata": {},
   "outputs": [
    {
     "name": "stderr",
     "output_type": "stream",
     "text": [
      "100%|███████████████████████████████| 1264216/1264216 [06:25<00:00, 3282.80it/s]\n"
     ]
    },
    {
     "data": {
      "text/html": [
       "<div>\n",
       "<style scoped>\n",
       "    .dataframe tbody tr th:only-of-type {\n",
       "        vertical-align: middle;\n",
       "    }\n",
       "\n",
       "    .dataframe tbody tr th {\n",
       "        vertical-align: top;\n",
       "    }\n",
       "\n",
       "    .dataframe thead th {\n",
       "        text-align: right;\n",
       "    }\n",
       "</style>\n",
       "<table border=\"1\" class=\"dataframe\">\n",
       "  <thead>\n",
       "    <tr style=\"text-align: right;\">\n",
       "      <th></th>\n",
       "      <th>Id</th>\n",
       "      <th>OwnerUserId</th>\n",
       "      <th>CreationDate</th>\n",
       "      <th>ClosedDate</th>\n",
       "      <th>Score</th>\n",
       "      <th>Title</th>\n",
       "      <th>Body</th>\n",
       "    </tr>\n",
       "  </thead>\n",
       "  <tbody>\n",
       "    <tr>\n",
       "      <th>0</th>\n",
       "      <td>80</td>\n",
       "      <td>26.0</td>\n",
       "      <td>2008-08-01T13:57:07Z</td>\n",
       "      <td>NaN</td>\n",
       "      <td>26</td>\n",
       "      <td>SQLStatement.execute() - multiple queries in o...</td>\n",
       "      <td>I've written a database generation script in S...</td>\n",
       "    </tr>\n",
       "    <tr>\n",
       "      <th>1</th>\n",
       "      <td>90</td>\n",
       "      <td>58.0</td>\n",
       "      <td>2008-08-01T14:41:24Z</td>\n",
       "      <td>2012-12-26T03:45:49Z</td>\n",
       "      <td>144</td>\n",
       "      <td>Good branching and merging tutorials for Torto...</td>\n",
       "      <td>Are there any really good tutorials explaining...</td>\n",
       "    </tr>\n",
       "    <tr>\n",
       "      <th>2</th>\n",
       "      <td>120</td>\n",
       "      <td>83.0</td>\n",
       "      <td>2008-08-01T15:50:08Z</td>\n",
       "      <td>NaN</td>\n",
       "      <td>21</td>\n",
       "      <td>ASP.NET Site Maps</td>\n",
       "      <td>Has anyone got experience creating SQL-based A...</td>\n",
       "    </tr>\n",
       "    <tr>\n",
       "      <th>3</th>\n",
       "      <td>180</td>\n",
       "      <td>2089740.0</td>\n",
       "      <td>2008-08-01T18:42:19Z</td>\n",
       "      <td>NaN</td>\n",
       "      <td>53</td>\n",
       "      <td>Function for creating color wheels</td>\n",
       "      <td>This is something I've pseudo-solved many time...</td>\n",
       "    </tr>\n",
       "    <tr>\n",
       "      <th>4</th>\n",
       "      <td>260</td>\n",
       "      <td>91.0</td>\n",
       "      <td>2008-08-01T23:22:08Z</td>\n",
       "      <td>NaN</td>\n",
       "      <td>49</td>\n",
       "      <td>Adding scripting functionality to .NET applica...</td>\n",
       "      <td>I have a little game written in C#. It uses a ...</td>\n",
       "    </tr>\n",
       "  </tbody>\n",
       "</table>\n",
       "</div>"
      ],
      "text/plain": [
       "    Id  OwnerUserId          CreationDate            ClosedDate  Score  \\\n",
       "0   80         26.0  2008-08-01T13:57:07Z                   NaN     26   \n",
       "1   90         58.0  2008-08-01T14:41:24Z  2012-12-26T03:45:49Z    144   \n",
       "2  120         83.0  2008-08-01T15:50:08Z                   NaN     21   \n",
       "3  180    2089740.0  2008-08-01T18:42:19Z                   NaN     53   \n",
       "4  260         91.0  2008-08-01T23:22:08Z                   NaN     49   \n",
       "\n",
       "                                               Title  \\\n",
       "0  SQLStatement.execute() - multiple queries in o...   \n",
       "1  Good branching and merging tutorials for Torto...   \n",
       "2                                  ASP.NET Site Maps   \n",
       "3                 Function for creating color wheels   \n",
       "4  Adding scripting functionality to .NET applica...   \n",
       "\n",
       "                                                Body  \n",
       "0  I've written a database generation script in S...  \n",
       "1  Are there any really good tutorials explaining...  \n",
       "2  Has anyone got experience creating SQL-based A...  \n",
       "3  This is something I've pseudo-solved many time...  \n",
       "4  I have a little game written in C#. It uses a ...  "
      ]
     },
     "execution_count": 20,
     "metadata": {},
     "output_type": "execute_result"
    }
   ],
   "source": [
    "df['Body'] = df['Body'].progress_map(strip_html)\n",
    "df.head()"
   ]
  },
  {
   "cell_type": "markdown",
   "id": "3141d1c1",
   "metadata": {},
   "source": [
    "We have enough data to do a Train/Val/Test split. I am going to go ahead and create that split, then persist the prep-processed dataframe to SQLite so we don't need to run this all again."
   ]
  },
  {
   "cell_type": "code",
   "execution_count": 44,
   "id": "ddadd5b2",
   "metadata": {},
   "outputs": [
    {
     "data": {
      "text/html": [
       "<div>\n",
       "<style scoped>\n",
       "    .dataframe tbody tr th:only-of-type {\n",
       "        vertical-align: middle;\n",
       "    }\n",
       "\n",
       "    .dataframe tbody tr th {\n",
       "        vertical-align: top;\n",
       "    }\n",
       "\n",
       "    .dataframe thead th {\n",
       "        text-align: right;\n",
       "    }\n",
       "</style>\n",
       "<table border=\"1\" class=\"dataframe\">\n",
       "  <thead>\n",
       "    <tr style=\"text-align: right;\">\n",
       "      <th></th>\n",
       "      <th>Id</th>\n",
       "      <th>OwnerUserId</th>\n",
       "      <th>CreationDate</th>\n",
       "      <th>ClosedDate</th>\n",
       "      <th>Score</th>\n",
       "      <th>Title</th>\n",
       "      <th>Body</th>\n",
       "      <th>Split</th>\n",
       "    </tr>\n",
       "  </thead>\n",
       "  <tbody>\n",
       "    <tr>\n",
       "      <th>0</th>\n",
       "      <td>80</td>\n",
       "      <td>26.0</td>\n",
       "      <td>2008-08-01T13:57:07Z</td>\n",
       "      <td>NaN</td>\n",
       "      <td>26</td>\n",
       "      <td>SQLStatement.execute() - multiple queries in o...</td>\n",
       "      <td>I've written a database generation script in S...</td>\n",
       "      <td>0</td>\n",
       "    </tr>\n",
       "    <tr>\n",
       "      <th>1</th>\n",
       "      <td>90</td>\n",
       "      <td>58.0</td>\n",
       "      <td>2008-08-01T14:41:24Z</td>\n",
       "      <td>2012-12-26T03:45:49Z</td>\n",
       "      <td>144</td>\n",
       "      <td>Good branching and merging tutorials for Torto...</td>\n",
       "      <td>Are there any really good tutorials explaining...</td>\n",
       "      <td>0</td>\n",
       "    </tr>\n",
       "    <tr>\n",
       "      <th>2</th>\n",
       "      <td>120</td>\n",
       "      <td>83.0</td>\n",
       "      <td>2008-08-01T15:50:08Z</td>\n",
       "      <td>NaN</td>\n",
       "      <td>21</td>\n",
       "      <td>ASP.NET Site Maps</td>\n",
       "      <td>Has anyone got experience creating SQL-based A...</td>\n",
       "      <td>0</td>\n",
       "    </tr>\n",
       "    <tr>\n",
       "      <th>3</th>\n",
       "      <td>180</td>\n",
       "      <td>2089740.0</td>\n",
       "      <td>2008-08-01T18:42:19Z</td>\n",
       "      <td>NaN</td>\n",
       "      <td>53</td>\n",
       "      <td>Function for creating color wheels</td>\n",
       "      <td>This is something I've pseudo-solved many time...</td>\n",
       "      <td>0</td>\n",
       "    </tr>\n",
       "    <tr>\n",
       "      <th>4</th>\n",
       "      <td>260</td>\n",
       "      <td>91.0</td>\n",
       "      <td>2008-08-01T23:22:08Z</td>\n",
       "      <td>NaN</td>\n",
       "      <td>49</td>\n",
       "      <td>Adding scripting functionality to .NET applica...</td>\n",
       "      <td>I have a little game written in C#. It uses a ...</td>\n",
       "      <td>0</td>\n",
       "    </tr>\n",
       "  </tbody>\n",
       "</table>\n",
       "</div>"
      ],
      "text/plain": [
       "    Id  OwnerUserId          CreationDate            ClosedDate  Score  \\\n",
       "0   80         26.0  2008-08-01T13:57:07Z                   NaN     26   \n",
       "1   90         58.0  2008-08-01T14:41:24Z  2012-12-26T03:45:49Z    144   \n",
       "2  120         83.0  2008-08-01T15:50:08Z                   NaN     21   \n",
       "3  180    2089740.0  2008-08-01T18:42:19Z                   NaN     53   \n",
       "4  260         91.0  2008-08-01T23:22:08Z                   NaN     49   \n",
       "\n",
       "                                               Title  \\\n",
       "0  SQLStatement.execute() - multiple queries in o...   \n",
       "1  Good branching and merging tutorials for Torto...   \n",
       "2                                  ASP.NET Site Maps   \n",
       "3                 Function for creating color wheels   \n",
       "4  Adding scripting functionality to .NET applica...   \n",
       "\n",
       "                                                Body  Split  \n",
       "0  I've written a database generation script in S...      0  \n",
       "1  Are there any really good tutorials explaining...      0  \n",
       "2  Has anyone got experience creating SQL-based A...      0  \n",
       "3  This is something I've pseudo-solved many time...      0  \n",
       "4  I have a little game written in C#. It uses a ...      0  "
      ]
     },
     "execution_count": 44,
     "metadata": {},
     "output_type": "execute_result"
    }
   ],
   "source": [
    "rng = np.random.RandomState(SEED)\n",
    "df['Split'] = rng.choice([0,1,2], size=df.shape[0], replace=True, p=[0.7, 0.1, 0.2])\n",
    "df.head()"
   ]
  },
  {
   "cell_type": "code",
   "execution_count": 45,
   "id": "c340fbda",
   "metadata": {},
   "outputs": [
    {
     "data": {
      "text/html": [
       "<div>\n",
       "<style scoped>\n",
       "    .dataframe tbody tr th:only-of-type {\n",
       "        vertical-align: middle;\n",
       "    }\n",
       "\n",
       "    .dataframe tbody tr th {\n",
       "        vertical-align: top;\n",
       "    }\n",
       "\n",
       "    .dataframe thead th {\n",
       "        text-align: right;\n",
       "    }\n",
       "</style>\n",
       "<table border=\"1\" class=\"dataframe\">\n",
       "  <thead>\n",
       "    <tr style=\"text-align: right;\">\n",
       "      <th></th>\n",
       "      <th>count</th>\n",
       "      <th>mean</th>\n",
       "      <th>median</th>\n",
       "      <th>min</th>\n",
       "      <th>max</th>\n",
       "    </tr>\n",
       "    <tr>\n",
       "      <th>Split</th>\n",
       "      <th></th>\n",
       "      <th></th>\n",
       "      <th></th>\n",
       "      <th></th>\n",
       "      <th></th>\n",
       "    </tr>\n",
       "  </thead>\n",
       "  <tbody>\n",
       "    <tr>\n",
       "      <th>0</th>\n",
       "      <td>885496</td>\n",
       "      <td>1.779560</td>\n",
       "      <td>0.0</td>\n",
       "      <td>-73</td>\n",
       "      <td>5190</td>\n",
       "    </tr>\n",
       "    <tr>\n",
       "      <th>1</th>\n",
       "      <td>126826</td>\n",
       "      <td>1.782623</td>\n",
       "      <td>0.0</td>\n",
       "      <td>-23</td>\n",
       "      <td>1513</td>\n",
       "    </tr>\n",
       "    <tr>\n",
       "      <th>2</th>\n",
       "      <td>251894</td>\n",
       "      <td>1.787943</td>\n",
       "      <td>0.0</td>\n",
       "      <td>-18</td>\n",
       "      <td>2537</td>\n",
       "    </tr>\n",
       "  </tbody>\n",
       "</table>\n",
       "</div>"
      ],
      "text/plain": [
       "        count      mean  median  min   max\n",
       "Split                                     \n",
       "0      885496  1.779560     0.0  -73  5190\n",
       "1      126826  1.782623     0.0  -23  1513\n",
       "2      251894  1.787943     0.0  -18  2537"
      ]
     },
     "execution_count": 45,
     "metadata": {},
     "output_type": "execute_result"
    }
   ],
   "source": [
    "df.groupby('Split')['Score'].agg(['count', 'mean', 'median', 'min', 'max'])"
   ]
  },
  {
   "cell_type": "code",
   "execution_count": 3,
   "id": "3e53c573",
   "metadata": {},
   "outputs": [],
   "source": [
    "with sql.connect('StackSample.db') as conn:\n",
    "#     df.to_sql('df', conn, index=False)\n",
    "    df = pd.read_sql_query('select * from df', conn)"
   ]
  },
  {
   "cell_type": "markdown",
   "id": "99ec8207",
   "metadata": {},
   "source": [
    "Now let's train an NMF model. I'll also benchmark the time it takes to run this training. Remember, we are training from a dataset in memory. I am running an Intel i5-1135G7 X8 with 32GB of RAM."
   ]
  },
  {
   "cell_type": "code",
   "execution_count": 4,
   "id": "737ead41",
   "metadata": {},
   "outputs": [],
   "source": [
    "vect = TfidfVectorizer(\n",
    "    min_df=2,\n",
    "    max_df=0.95,\n",
    "    token_pattern=r'\\b[a-z]+\\b',\n",
    "    stop_words='english'\n",
    ")\n",
    "\n",
    "nmf = NMF(\n",
    "    n_components=100,\n",
    "    init='random',\n",
    "    random_state=SEED\n",
    ")"
   ]
  },
  {
   "cell_type": "code",
   "execution_count": 5,
   "id": "c0c49fe9",
   "metadata": {},
   "outputs": [],
   "source": [
    "idx = df['Split'] == 0\n",
    "X_train = df.loc[idx, 'Body'].values"
   ]
  },
  {
   "cell_type": "code",
   "execution_count": 6,
   "id": "58b0adfb",
   "metadata": {},
   "outputs": [
    {
     "name": "stdout",
     "output_type": "stream",
     "text": [
      "Time to train vectorizer: 60.09s\n"
     ]
    }
   ],
   "source": [
    "start = time.time()\n",
    "X_train_vect = vect.fit_transform(X_train)\n",
    "end = time.time()\n",
    "print(f'Time to train vectorizer: {end-start:0.2f}s')"
   ]
  },
  {
   "cell_type": "code",
   "execution_count": 57,
   "id": "a6e2c674",
   "metadata": {},
   "outputs": [
    {
     "name": "stdout",
     "output_type": "stream",
     "text": [
      "Time to train NMF w/ 100 components: 3320.237246s\n"
     ]
    }
   ],
   "source": [
    "start = time.time()\n",
    "X_train_nmf = nmf.fit_transform(X_train_vect)\n",
    "end = time.time()\n",
    "print(f'Time to train NMF w/ {nmf.n_components} components: {end-start:02f}s')"
   ]
  },
  {
   "cell_type": "code",
   "execution_count": 60,
   "id": "8f6f3ed9",
   "metadata": {},
   "outputs": [
    {
     "data": {
      "text/plain": [
       "['nmf_100.joblib']"
      ]
     },
     "execution_count": 60,
     "metadata": {},
     "output_type": "execute_result"
    }
   ],
   "source": [
    "joblib.dump(nmf, 'nmf_100.joblib')"
   ]
  },
  {
   "cell_type": "markdown",
   "id": "85c86b1d",
   "metadata": {},
   "source": [
    "Maybe it would be best to cycle through some different topic numbers and compare NMF to MiniBatchNMF."
   ]
  },
  {
   "cell_type": "code",
   "execution_count": null,
   "id": "eebe43b8",
   "metadata": {},
   "outputs": [
    {
     "name": "stderr",
     "output_type": "stream",
     "text": [
      "/home/jking/miniconda3/envs/sklearn/lib/python3.9/site-packages/sklearn/decomposition/_nmf.py:1665: ConvergenceWarning: Maximum number of iterations 200 reached. Increase it to improve convergence.\n",
      "  warnings.warn(\n"
     ]
    },
    {
     "name": "stdout",
     "output_type": "stream",
     "text": [
      "Time to train NMF w/ 10 components: 209.307184s\n"
     ]
    },
    {
     "name": "stderr",
     "output_type": "stream",
     "text": [
      "/home/jking/miniconda3/envs/sklearn/lib/python3.9/site-packages/sklearn/decomposition/_nmf.py:1665: ConvergenceWarning: Maximum number of iterations 200 reached. Increase it to improve convergence.\n",
      "  warnings.warn(\n"
     ]
    },
    {
     "name": "stdout",
     "output_type": "stream",
     "text": [
      "Time to train NMF w/ 20 components: 438.920101s\n",
      "Time to train NMF w/ 50 components: 1401.294100s\n",
      "Time to train NMF w/ 100 components: 3220.459530s\n"
     ]
    },
    {
     "name": "stderr",
     "output_type": "stream",
     "text": [
      "/home/jking/miniconda3/envs/sklearn/lib/python3.9/site-packages/sklearn/decomposition/_nmf.py:1665: ConvergenceWarning: Maximum number of iterations 200 reached. Increase it to improve convergence.\n",
      "  warnings.warn(\n"
     ]
    },
    {
     "name": "stdout",
     "output_type": "stream",
     "text": [
      "Time to train NMF w/ 200 components: 14288.799218s\n"
     ]
    }
   ],
   "source": [
    "for n_components in [10, 20, 50, 100, 200, 500]:\n",
    "    nmf = NMF(\n",
    "        n_components=n_components,\n",
    "        init='random',\n",
    "        random_state=SEED\n",
    "    )\n",
    "    start = time.time()\n",
    "    nmf.fit(X_train_vect)\n",
    "    end = time.time()\n",
    "    print(f'Time to train NMF w/ {n_components} components: {end-start:02f}s')\n",
    "    joblib.dump(nmf, f'nmf_{n_components}_random.joblib')"
   ]
  },
  {
   "cell_type": "code",
   "execution_count": 8,
   "id": "299cfa12",
   "metadata": {
    "scrolled": true
   },
   "outputs": [
    {
     "name": "stdout",
     "output_type": "stream",
     "text": [
      "Time to train online NMF w/ 10 components: 232.140755s\n",
      "Time to train online NMF w/ 20 components: 660.861073s\n",
      "Time to train online NMF w/ 50 components: 2660.552445s\n",
      "Time to train online NMF w/ 100 components: 10.644401s\n",
      "Time to train online NMF w/ 200 components: 20.515010s\n"
     ]
    }
   ],
   "source": [
    "for n_components in [10, 20, 50, 100, 200]:\n",
    "    nmf = MiniBatchNMF(\n",
    "        n_components=n_components,\n",
    "        init='random',\n",
    "        verbose=False,\n",
    "        random_state=SEED\n",
    "    )\n",
    "    start = time.time()\n",
    "    nmf.fit(X_train_vect)\n",
    "    end = time.time()\n",
    "    print(f'Time to train online NMF w/ {n_components} components: {end-start:02f}s')\n",
    "    joblib.dump(nmf, f'online_nmf_{n_components}_random.joblib')"
   ]
  },
  {
   "cell_type": "code",
   "execution_count": 10,
   "id": "47ac61f7",
   "metadata": {},
   "outputs": [],
   "source": [
    "X_nmf = nmf.transform(X_train_vect)"
   ]
  },
  {
   "cell_type": "code",
   "execution_count": 11,
   "id": "23d03857",
   "metadata": {},
   "outputs": [
    {
     "data": {
      "text/plain": [
       "(885496, 200)"
      ]
     },
     "execution_count": 11,
     "metadata": {},
     "output_type": "execute_result"
    }
   ],
   "source": [
    "X_nmf.shape"
   ]
  },
  {
   "cell_type": "code",
   "execution_count": 15,
   "id": "f5653a99",
   "metadata": {},
   "outputs": [
    {
     "name": "stdout",
     "output_type": "stream",
     "text": [
      "Time to train online NMF w/ 200 components: 13021.849455s\n"
     ]
    }
   ],
   "source": [
    "nmf = MiniBatchNMF(\n",
    "    n_components=200,\n",
    "    init='nndsvda',\n",
    "    verbose=False,\n",
    "    random_state=SEED\n",
    ")\n",
    "start = time.time()\n",
    "nmf.fit(X_train_vect)\n",
    "end = time.time()\n",
    "print(f'Time to train online NMF w/ {n_components} components: {end-start:02f}s')"
   ]
  },
  {
   "cell_type": "code",
   "execution_count": 16,
   "id": "82abc488",
   "metadata": {},
   "outputs": [
    {
     "data": {
      "text/plain": [
       "['online_nmf_200_nndsvda.joblib']"
      ]
     },
     "execution_count": 16,
     "metadata": {},
     "output_type": "execute_result"
    }
   ],
   "source": [
    "joblib.dump(nmf, f'online_nmf_{n_components}_nndsvda.joblib')"
   ]
  },
  {
   "cell_type": "code",
   "execution_count": null,
   "id": "04b0f7e0",
   "metadata": {},
   "outputs": [],
   "source": []
  }
 ],
 "metadata": {
  "kernelspec": {
   "display_name": "Python [conda env:sklearn]",
   "language": "python",
   "name": "conda-env-sklearn-py"
  },
  "language_info": {
   "codemirror_mode": {
    "name": "ipython",
    "version": 3
   },
   "file_extension": ".py",
   "mimetype": "text/x-python",
   "name": "python",
   "nbconvert_exporter": "python",
   "pygments_lexer": "ipython3",
   "version": "3.9.16"
  }
 },
 "nbformat": 4,
 "nbformat_minor": 5
}
