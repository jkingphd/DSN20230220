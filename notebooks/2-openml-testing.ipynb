{
 "cells": [
  {
   "cell_type": "code",
   "execution_count": 3,
   "id": "aedf885f",
   "metadata": {},
   "outputs": [],
   "source": [
    "from sklearn.datasets import fetch_openml\n",
    "import pandas as pd\n",
    "import numpy as np\n",
    "import time"
   ]
  },
  {
   "cell_type": "markdown",
   "id": "811e737b",
   "metadata": {},
   "source": [
    "I haven't really used the sklearn.dataset module. They just added support for fetching datasets from openml (experimental) in 1.2. From their website:\n",
    "\n",
    "> We believe that machine learning research should be open, well-organized and easily accessible to anyone. There is amazing machine learning research going on every day in labs all over the world. What if we could easily share the latest great results (datasets, code, experiments) from all of our labs and organize them online, so that everyone can easily discover and access them, use them in myriad unexpected ways, and solve problems together on a global scale?\n",
    "\n",
    "> We strive to make as many datasets as possible easily discoverable, well documented, and frictionlessly accessible. When new models are trained and evaluated, we also make these results easily discoverable, clearly documented and reproducible, so that we can trust them, learn from them, and build on the combined results of the planet. And of course, we use machine learning on top of all this data to make new discoveries and automate our work.\n",
    "\n",
    "As an aside, I think it's interesting that people who don't have interesting data always want to start initiatives for sharing data! Okay, that's not entirely true, but it there does seem to be a type of person that does this.\n",
    "\n",
    "Looking through the website, I am seeing roughly 5K verified datasets (as of 2022-02-07). I decided to pull a recently uploaded dataset named adult (ID:45068). This is the listed description:\n",
    "\n",
    "> Prediction task is to determine whether a person makes over 50K a year. Extraction was done by Barry Becker from the 1994 Census database. A set of reasonably clean records was extracted using the following conditions: ((AAGE>16) && (AGI>100) && (AFNLWGT>1)&& (HRSWK>0))"
   ]
  },
  {
   "cell_type": "code",
   "execution_count": 17,
   "id": "7fc37e03",
   "metadata": {},
   "outputs": [
    {
     "name": "stdout",
     "output_type": "stream",
     "text": [
      "Time to pull and load dataset: 10.80s\n"
     ]
    }
   ],
   "source": [
    "start = time.time()\n",
    "data = fetch_openml(data_id=45068, cache=False, parser='auto')\n",
    "end = time.time()\n",
    "print('Time to pull and load dataset: %0.2fs' % (end-start))"
   ]
  },
  {
   "cell_type": "code",
   "execution_count": 19,
   "id": "d935dfce",
   "metadata": {},
   "outputs": [
    {
     "data": {
      "text/plain": [
       "<=50K    37155\n",
       ">50K     11687\n",
       "Name: class, dtype: int64"
      ]
     },
     "execution_count": 19,
     "metadata": {},
     "output_type": "execute_result"
    }
   ],
   "source": [
    "data['frame']['class'].value_counts()"
   ]
  },
  {
   "cell_type": "code",
   "execution_count": null,
   "id": "41dfd415",
   "metadata": {},
   "outputs": [],
   "source": []
  }
 ],
 "metadata": {
  "kernelspec": {
   "display_name": "Python [conda env:sklearn]",
   "language": "python",
   "name": "conda-env-sklearn-py"
  },
  "language_info": {
   "codemirror_mode": {
    "name": "ipython",
    "version": 3
   },
   "file_extension": ".py",
   "mimetype": "text/x-python",
   "name": "python",
   "nbconvert_exporter": "python",
   "pygments_lexer": "ipython3",
   "version": "3.9.16"
  }
 },
 "nbformat": 4,
 "nbformat_minor": 5
}
